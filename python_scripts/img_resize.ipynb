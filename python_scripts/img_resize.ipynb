{
 "cells": [
  {
   "cell_type": "code",
   "execution_count": 1,
   "id": "jewish-drive",
   "metadata": {},
   "outputs": [],
   "source": [
    "from PIL import Image\n",
    "import numpy as np\n",
    "\n"
   ]
  },
  {
   "cell_type": "code",
   "execution_count": null,
   "id": "loved-research",
   "metadata": {},
   "outputs": [],
   "source": [
    "img = Image.open('../resources/envs/image_part_128.png') # image extension *.png,*.jpg\n",
    "\n",
    "new_width  = 16\n",
    "new_height = 16\n",
    "img = img.resize((new_width, new_height), Image.ANTIALIAS)\n",
    "\n",
    "img.save('../resources/envs/image_part_128.png') # format may what u want ,*.png,*jpg,*.gif"
   ]
  },
  {
   "cell_type": "code",
   "execution_count": 2,
   "id": "metric-structure",
   "metadata": {},
   "outputs": [],
   "source": [
    "def get_concat_h(im1, im2):\n",
    "    dst = Image.new('RGB', (im1.width + im2.width, im1.height))\n",
    "    dst.paste(im1, (0, 0))\n",
    "    dst.paste(im2, (im1.width, 0))\n",
    "    return dst\n",
    "\n",
    "def get_concat_v(im1, im2):\n",
    "    dst = Image.new('RGB', (im1.width, im1.height + im2.height))\n",
    "    dst.paste(im1, (0, 0))\n",
    "    dst.paste(im2, (0, im1.height))\n",
    "    return dst"
   ]
  },
  {
   "cell_type": "code",
   "execution_count": 7,
   "id": "supposed-allah",
   "metadata": {},
   "outputs": [],
   "source": [
    "def concat_h_all(imgs, name):\n",
    "    res = imgs[0]\n",
    "    for i in range(1, len(imgs)):\n",
    "        res = get_concat_h(res, imgs[i])\n",
    "    res.save('../resources/' + name)\n",
    "# get_concat_h(im1, im1).save('data/dst/pillow_concat_h.jpg')\n",
    "# get_concat_v(im1, im1).save('data/dst/pillow_concat_v.jpg')"
   ]
  },
  {
   "cell_type": "code",
   "execution_count": 8,
   "id": "canadian-diamond",
   "metadata": {},
   "outputs": [],
   "source": [
    "concat_h_all([Image.open('../resources/Adventurer/Individual Sprites/adventurer-idle-00.png'),\n",
    "             Image.open('../resources/Adventurer/Individual Sprites/adventurer-idle-01.png'),\n",
    "             Image.open('../resources/Adventurer/Individual Sprites/adventurer-idle-02.png'),\n",
    "             Image.open('../resources/Adventurer/Individual Sprites/adventurer-idle-03.png')],\n",
    "            'player_idle.png')"
   ]
  },
  {
   "cell_type": "code",
   "execution_count": null,
   "id": "intended-cleveland",
   "metadata": {},
   "outputs": [],
   "source": []
  }
 ],
 "metadata": {
  "kernelspec": {
   "display_name": "Python 3",
   "language": "python",
   "name": "python3"
  },
  "language_info": {
   "codemirror_mode": {
    "name": "ipython",
    "version": 3
   },
   "file_extension": ".py",
   "mimetype": "text/x-python",
   "name": "python",
   "nbconvert_exporter": "python",
   "pygments_lexer": "ipython3",
   "version": "3.6.12"
  }
 },
 "nbformat": 4,
 "nbformat_minor": 5
}
