{
 "cells": [
  {
   "cell_type": "code",
   "execution_count": 79,
   "id": "opponent-variance",
   "metadata": {},
   "outputs": [],
   "source": [
    "import random\n",
    "import numpy as np"
   ]
  },
  {
   "cell_type": "code",
   "execution_count": 123,
   "id": "bridal-costume",
   "metadata": {},
   "outputs": [],
   "source": [
    "elements = [' ', #пустое простарнство\n",
    "            '@', #игрок\n",
    "            '.', #пол\n",
    "            '#', #стена\n",
    "            'x', #выход с уровня\n",
    "            '%', #ломающаяся стена\n",
    "           ]"
   ]
  },
  {
   "cell_type": "code",
   "execution_count": 18,
   "id": "aerial-facing",
   "metadata": {},
   "outputs": [],
   "source": [
    "arr = []\n",
    "\n",
    "with open(\"../floors/first_floor.txt\", \"w\") as file:\n",
    "    for __ in range(1024//16):\n",
    "        arr_line = []\n",
    "        for _ in range(1024//16):\n",
    "            ind = random.randint(0, elements.__len__() - 1)\n",
    "            arr_line += elements[ind]\n",
    "        arr += arr_line\n",
    "        print(*arr_line, file=file, sep = '')"
   ]
  },
  {
   "cell_type": "code",
   "execution_count": 81,
   "id": "lovely-tribe",
   "metadata": {},
   "outputs": [],
   "source": [
    "from generate_maze import create_maze"
   ]
  },
  {
   "cell_type": "code",
   "execution_count": 121,
   "id": "necessary-madrid",
   "metadata": {},
   "outputs": [],
   "source": [
    "def show(img):\n",
    "    fig = plt.imshow(img, 'gray')\n",
    "    fig.axes.get_xaxis().set_visible(False)\n",
    "    fig.axes.get_yaxis().set_visible(False)\n",
    "    #plt.savefig('maze2.png')\n",
    "    plt.show()"
   ]
  },
  {
   "cell_type": "code",
   "execution_count": 177,
   "id": "numerous-lawyer",
   "metadata": {},
   "outputs": [
    {
     "name": "stdout",
     "output_type": "stream",
     "text": [
      "33 33\n"
     ]
    },
    {
     "data": {
      "image/png": "[encoded data removed]",
      "text/plain": [
       "<Figure size 432x288 with 1 Axes>"
      ]
     },
     "metadata": {
      "needs_background": "light"
     },
     "output_type": "display_data"
    }
   ],
   "source": [
    "lago = create_maze(16, 16)\n",
    "img = lago.return_img(padding=1)\n",
    "show(img)"
   ]
  },
  {
   "cell_type": "code",
   "execution_count": 178,
   "id": "handy-packaging",
   "metadata": {},
   "outputs": [],
   "source": [
    "converter = {\n",
    "    0: '#',\n",
    "    255: '.',\n",
    "    170: 'x',\n",
    "    177: '@',\n",
    "    100: '%',\n",
    "}\n",
    "walls = [0, 100]\n",
    "weights = [0.8, 0.2]\n",
    "#random.choices(walls, weights)\n",
    "for i in range(img.shape[0]):\n",
    "    for j in range(img.shape[1]):\n",
    "        if img[i, j] == 0 and i % (img.shape[0] - 1) != 0 and j % (img.shape[1] - 1) != 0:\n",
    "            img[i, j] = random.choices(walls, weights)[0]\n",
    "            "
   ]
  },
  {
   "cell_type": "code",
   "execution_count": 179,
   "id": "chicken-corner",
   "metadata": {},
   "outputs": [
    {
     "data": {
      "image/png": "[encoded data removed]",
      "text/plain": [
       "<Figure size 432x288 with 1 Axes>"
      ]
     },
     "metadata": {
      "needs_background": "light"
     },
     "output_type": "display_data"
    }
   ],
   "source": [
    "show(img)"
   ]
  },
  {
   "cell_type": "code",
   "execution_count": 181,
   "id": "parliamentary-frost",
   "metadata": {},
   "outputs": [],
   "source": [
    "with open(\"../floors/first_floor.txt\", \"w\") as file:\n",
    "    pict = img.copy()\n",
    "    for i in range(pict.shape[0]):\n",
    "        arr_line = []\n",
    "        for j in range(pict.shape[1]):\n",
    "            try:\n",
    "                arr_line.append(converter[pict[i, j]])\n",
    "            except:\n",
    "                print(pict[i, j])\n",
    "\n",
    "        print(*arr_line, file=file, sep = '')\n",
    "                "
   ]
  },
  {
   "cell_type": "code",
   "execution_count": null,
   "id": "opening-humanitarian",
   "metadata": {},
   "outputs": [],
   "source": []
  }
 ],
 "metadata": {
  "kernelspec": {
   "display_name": "Python 3",
   "language": "python",
   "name": "python3"
  },
  "language_info": {
   "codemirror_mode": {
    "name": "ipython",
    "version": 3
   },
   "file_extension": ".py",
   "mimetype": "text/x-python",
   "name": "python",
   "nbconvert_exporter": "python",
   "pygments_lexer": "ipython3",
   "version": "3.6.12"
  }
 },
 "nbformat": 4,
 "nbformat_minor": 5
}
