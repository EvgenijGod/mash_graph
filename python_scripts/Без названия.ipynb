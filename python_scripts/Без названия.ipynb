{
 "cells": [
  {
   "cell_type": "code",
   "execution_count": 13,
   "id": "finnish-opposition",
   "metadata": {},
   "outputs": [],
   "source": [
    "from PIL import Image\n",
    "import numpy as np\n",
    "\n",
    "img = Image.open('../resources/envs/image_part_128.png') # image extension *.png,*.jpg\n",
    "\n",
    "new_width  = 16\n",
    "new_height = 16\n",
    "img = img.resize((new_width, new_height), Image.ANTIALIAS)\n",
    "\n",
    "img.save('../resources/envs/image_part_128.png') # format may what u want ,*.png,*jpg,*.gif"
   ]
  },
  {
   "cell_type": "code",
   "execution_count": null,
   "id": "innovative-dryer",
   "metadata": {},
   "outputs": [],
   "source": []
  }
 ],
 "metadata": {
  "kernelspec": {
   "display_name": "Python 3",
   "language": "python",
   "name": "python3"
  },
  "language_info": {
   "codemirror_mode": {
    "name": "ipython",
    "version": 3
   },
   "file_extension": ".py",
   "mimetype": "text/x-python",
   "name": "python",
   "nbconvert_exporter": "python",
   "pygments_lexer": "ipython3",
   "version": "3.6.12"
  }
 },
 "nbformat": 4,
 "nbformat_minor": 5
}
