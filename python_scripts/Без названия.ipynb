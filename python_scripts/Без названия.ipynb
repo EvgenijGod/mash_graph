{
 "cells": [
  {
   "cell_type": "code",
   "execution_count": 6,
   "id": "opponent-variance",
   "metadata": {},
   "outputs": [],
   "source": [
    "import random"
   ]
  },
  {
   "cell_type": "code",
   "execution_count": 4,
   "id": "bridal-costume",
   "metadata": {},
   "outputs": [],
   "source": [
    "elements = [' ', #пустое простарнство\n",
    "            '@', #игрок\n",
    "            '.', #пол\n",
    "            '#', #стена\n",
    "            'x', #выход с уровня\n",
    "           ]"
   ]
  },
  {
   "cell_type": "code",
   "execution_count": 10,
   "id": "alien-allah",
   "metadata": {},
   "outputs": [
    {
     "data": {
      "text/plain": [
       "3"
      ]
     },
     "execution_count": 10,
     "metadata": {},
     "output_type": "execute_result"
    }
   ],
   "source": [
    "random.randint(0, elements.__len__() - 1)"
   ]
  },
  {
   "cell_type": "code",
   "execution_count": 18,
   "id": "aerial-facing",
   "metadata": {},
   "outputs": [],
   "source": [
    "arr = []\n",
    "\n",
    "with open(\"../floors/first_floor.txt\", \"w\") as file:\n",
    "    for __ in range(1024//16):\n",
    "        arr_line = []\n",
    "        for _ in range(1024//16):\n",
    "            ind = random.randint(0, elements.__len__() - 1)\n",
    "            arr_line += elements[ind]\n",
    "        arr += arr_line\n",
    "        print(*arr_line, file=file, sep = '')"
   ]
  },
  {
   "cell_type": "code",
   "execution_count": 16,
   "id": "yellow-choir",
   "metadata": {},
   "outputs": [
    {
     "data": {
      "text/plain": [
       "64.0"
      ]
     },
     "execution_count": 16,
     "metadata": {},
     "output_type": "execute_result"
    }
   ],
   "source": [
    "len(arr) ** 0.5"
   ]
  },
  {
   "cell_type": "code",
   "execution_count": null,
   "id": "painful-priest",
   "metadata": {},
   "outputs": [],
   "source": []
  }
 ],
 "metadata": {
  "kernelspec": {
   "display_name": "Python 3",
   "language": "python",
   "name": "python3"
  },
  "language_info": {
   "codemirror_mode": {
    "name": "ipython",
    "version": 3
   },
   "file_extension": ".py",
   "mimetype": "text/x-python",
   "name": "python",
   "nbconvert_exporter": "python",
   "pygments_lexer": "ipython3",
   "version": "3.6.12"
  }
 },
 "nbformat": 4,
 "nbformat_minor": 5
}
