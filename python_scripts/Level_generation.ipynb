{
 "cells": [
  {
   "cell_type": "code",
   "execution_count": 1,
   "id": "opponent-variance",
   "metadata": {},
   "outputs": [],
   "source": [
    "import random\n",
    "import numpy as np\n",
    "%matplotlib inline\n",
    "from matplotlib import pyplot as plt"
   ]
  },
  {
   "cell_type": "code",
   "execution_count": 2,
   "id": "bridal-costume",
   "metadata": {},
   "outputs": [],
   "source": [
    "elements = [' ', #пустое простарнство\n",
    "            '@', #игрок\n",
    "            '.', #пол\n",
    "            '#', #стена\n",
    "            'x', #выход с уровня\n",
    "            '%', #ломающаяся стена\n",
    "           ]"
   ]
  },
  {
   "cell_type": "code",
   "execution_count": 3,
   "id": "aerial-facing",
   "metadata": {},
   "outputs": [],
   "source": [
    "# arr = []\n",
    "\n",
    "# with open(\"../floors/first_floor.txt\", \"w\") as file:\n",
    "#     for __ in range(1024//16):\n",
    "#         arr_line = []\n",
    "#         for _ in range(1024//16):\n",
    "#             ind = random.randint(0, elements.__len__() - 1)\n",
    "#             arr_line += elements[ind]\n",
    "#         arr += arr_line\n",
    "#         print(*arr_line, file=file, sep = '')"
   ]
  },
  {
   "cell_type": "code",
   "execution_count": 4,
   "id": "lovely-tribe",
   "metadata": {},
   "outputs": [],
   "source": [
    "from generate_maze import create_maze\n"
   ]
  },
  {
   "cell_type": "code",
   "execution_count": 5,
   "id": "necessary-madrid",
   "metadata": {},
   "outputs": [],
   "source": [
    "def show(img):\n",
    "    fig = plt.imshow(img, 'gray')\n",
    "    fig.axes.get_xaxis().set_visible(False)\n",
    "    fig.axes.get_yaxis().set_visible(False)\n",
    "    #plt.savefig('maze2.png')\n",
    "    plt.show()"
   ]
  },
  {
   "cell_type": "code",
   "execution_count": 27,
   "id": "numerous-lawyer",
   "metadata": {},
   "outputs": [
    {
     "name": "stdout",
     "output_type": "stream",
     "text": [
      "56 56\n"
     ]
    },
    {
     "data": {
      "image/png": "[encoded data removed]",
      "text/plain": [
       "<Figure size 432x288 with 1 Axes>"
      ]
     },
     "metadata": {
      "needs_background": "light"
     },
     "output_type": "display_data"
    }
   ],
   "source": [
    "lago = create_maze(3, 3)\n",
    "padding = 8\n",
    "img = lago.return_img(padding=padding)\n",
    "show(img)"
   ]
  },
  {
   "cell_type": "code",
   "execution_count": 28,
   "id": "tamil-mouse",
   "metadata": {},
   "outputs": [],
   "source": [
    "line = np.zeros(shape = ( 56))\n",
    "col = np.zeros(shape = (57, 1))\n",
    "img = np.vstack((img, line))\n",
    "img = np.hstack((img, col))"
   ]
  },
  {
   "cell_type": "code",
   "execution_count": 32,
   "id": "precise-wiring",
   "metadata": {},
   "outputs": [],
   "source": [
    "def good_pixel(i, j, h, w):\n",
    "    new_padding = padding\n",
    "    if (padding > 3):\n",
    "        new_padding = 3;\n",
    "    if i > new_padding - 1 and i < h - new_padding and j > new_padding - 1 and j < w - new_padding:\n",
    "        return True\n",
    "    else:\n",
    "        return False"
   ]
  },
  {
   "cell_type": "code",
   "execution_count": 33,
   "id": "handy-packaging",
   "metadata": {},
   "outputs": [],
   "source": [
    "converter = {\n",
    "    0: '#',\n",
    "    255: '.',\n",
    "    170: 'x',\n",
    "    177: '@',\n",
    "    100: '%',\n",
    "}\n",
    "walls = [0, 100]\n",
    "weights = [0.8, 0.04]\n",
    "#random.choices(walls, weights)\n",
    "for i in range(img.shape[0]):\n",
    "    for j in range(img.shape[1]):\n",
    "        if img[i, j] == 0 and good_pixel(i, j, img.shape[0], img.shape[1]):\n",
    "            img[i, j] = random.choices(walls, weights)[0]\n",
    "            if img[i, j] == 100:\n",
    "                for k in range(i - 2, i + 2):\n",
    "                    for q in range(j - 2, j + 2):\n",
    "                        if img[k, q] == 0 and good_pixel(k, q, img.shape[0], img.shape[1]):\n",
    "                            img[k, q] = 100\n",
    "                \n",
    "            "
   ]
  },
  {
   "cell_type": "code",
   "execution_count": 34,
   "id": "chicken-corner",
   "metadata": {},
   "outputs": [
    {
     "data": {
      "image/png": "[encoded data removed]",
      "text/plain": [
       "<Figure size 432x288 with 1 Axes>"
      ]
     },
     "metadata": {
      "needs_background": "light"
     },
     "output_type": "display_data"
    }
   ],
   "source": [
    "show(img)"
   ]
  },
  {
   "cell_type": "code",
   "execution_count": 35,
   "id": "parliamentary-frost",
   "metadata": {},
   "outputs": [],
   "source": [
    "with open(\"../floors/second_floor.txt\", \"w\") as file:\n",
    "    pict = img.copy()\n",
    "    for i in range(pict.shape[0]):\n",
    "        arr_line = []\n",
    "        for j in range(pict.shape[1]):\n",
    "            try:\n",
    "                arr_line.append(converter[pict[i, j]])\n",
    "            except:\n",
    "                print(pict[i, j])\n",
    "\n",
    "        print(*arr_line, file=file, sep = '')\n",
    "                "
   ]
  },
  {
   "cell_type": "code",
   "execution_count": null,
   "id": "opening-humanitarian",
   "metadata": {},
   "outputs": [],
   "source": []
  },
  {
   "cell_type": "code",
   "execution_count": null,
   "id": "israeli-nickname",
   "metadata": {},
   "outputs": [],
   "source": []
  }
 ],
 "metadata": {
  "kernelspec": {
   "display_name": "Python 3",
   "language": "python",
   "name": "python3"
  },
  "language_info": {
   "codemirror_mode": {
    "name": "ipython",
    "version": 3
   },
   "file_extension": ".py",
   "mimetype": "text/x-python",
   "name": "python",
   "nbconvert_exporter": "python",
   "pygments_lexer": "ipython3",
   "version": "3.6.12"
  }
 },
 "nbformat": 4,
 "nbformat_minor": 5
}
