{
 "cells": [
  {
   "cell_type": "code",
   "execution_count": 6,
   "id": "opponent-variance",
   "metadata": {},
   "outputs": [],
   "source": [
    "import random"
   ]
  },
  {
   "cell_type": "code",
   "execution_count": 4,
   "id": "bridal-costume",
   "metadata": {},
   "outputs": [],
   "source": [
    "elements = [' ', #пустое простарнство\n",
    "            '@', #игрок\n",
    "            '.', #пол\n",
    "            '#', #стена\n",
    "            'x', #выход с уровня\n",
    "           ]"
   ]
  },
  {
   "cell_type": "code",
   "execution_count": 10,
   "id": "alien-allah",
   "metadata": {},
   "outputs": [
    {
     "data": {
      "text/plain": [
       "3"
      ]
     },
     "execution_count": 10,
     "metadata": {},
     "output_type": "execute_result"
    }
   ],
   "source": [
    "random.randint(0, elements.__len__() - 1)"
   ]
  },
  {
   "cell_type": "code",
   "execution_count": 18,
   "id": "aerial-facing",
   "metadata": {},
   "outputs": [],
   "source": [
    "arr = []\n",
    "\n",
    "with open(\"../floors/first_floor.txt\", \"w\") as file:\n",
    "    for __ in range(1024//16):\n",
    "        arr_line = []\n",
    "        for _ in range(1024//16):\n",
    "            ind = random.randint(0, elements.__len__() - 1)\n",
    "            arr_line += elements[ind]\n",
    "        arr += arr_line\n",
    "        print(*arr_line, file=file, sep = '')"
   ]
  },
  {
   "cell_type": "code",
   "execution_count": 16,
   "id": "yellow-choir",
   "metadata": {},
   "outputs": [
    {
     "data": {
      "text/plain": [
       "64.0"
      ]
     },
     "execution_count": 16,
     "metadata": {},
     "output_type": "execute_result"
    }
   ],
   "source": [
    "len(arr) ** 0.5"
   ]
  },
  {
   "cell_type": "code",
   "execution_count": null,
   "id": "painful-priest",
   "metadata": {},
   "outputs": [],
   "source": [
    "import random\n",
    "\n",
    "\"\"\"\n",
    "Generates a random maze from the given width and height using Kruskal's algorithm for minimum spanning trees\n",
    "Output:\n",
    "    maze - the edges of the spanning tree\n",
    "    legal_edges - a dictionary of nodes as keys and a list of legal edges to traverse as values\n",
    "\"\"\"\n",
    "\n",
    "\n",
    "class KruskalMaze:\n",
    "    def __init__(self,width,height):\n",
    "        self.width = width\n",
    "        self.height = height\n",
    "        self.nodes,self.edges = self.create_graph()\n",
    "        self.maze = self.generate_maze()\n",
    "        self.legal_edges = self.get_legal_traversal_edges()\n",
    "\n",
    "    def get_random_edge_weights(self):\n",
    "        \"\"\"assigns random weights to each edge of the graph\"\"\"\n",
    "        edge_weights = [(random.randint(1,4),x,y) for (x,y) in self.edges]\n",
    "        return edge_weights\n",
    "\n",
    "    def get_legal_traversal_edges(self):\n",
    "        \"\"\"gets legal edges for each node based on the spanning tree. illegal edges are walls\"\"\"\n",
    "        legal_edges = {}\n",
    "        for s in sorted(self.maze):\n",
    "            if s[0] not in legal_edges:\n",
    "                legal_edges[s[0]] = [s[1]]\n",
    "            else:\n",
    "                legal_edges[s[0]].append(s[1])\n",
    "            if s[1] not in legal_edges:\n",
    "                legal_edges[s[1]] = [s[0]]\n",
    "            else:\n",
    "                legal_edges[s[1]].append(s[0])\n",
    "        return legal_edges\n",
    "\n",
    "    def create_graph(self):\n",
    "        \"\"\"for now can't move diagonally\"\"\"\n",
    "        x = self.width\n",
    "        y = self.height\n",
    "        nodes = set()\n",
    "        edges = set()\n",
    "        for i in range(x):\n",
    "            for j in range(y):\n",
    "                nodes.add((i,j))\n",
    "                if i > 0:\n",
    "                    e1 = (i-1,j)\n",
    "                    edges.add(((i,j),e1))\n",
    "                if i < x-1:    \n",
    "                    e2 = (i+1,j)\n",
    "                    edges.add(((i,j),e2))\n",
    "                if j > 0:            \n",
    "                    e3 = (i,j-1)\n",
    "                    edges.add(((i,j),e3))\n",
    "                if j < y-1:                \n",
    "                    e4 = (i,j+1)\n",
    "                    edges.add(((i,j),e4))\n",
    "        return nodes,edges\n",
    "\n",
    "    def generate_maze(self):\n",
    "        \"\"\"implements kruskal's algorithm to generate minimum spanning tree\"\"\"\n",
    "        edge_weights = self.get_random_edge_weights()\n",
    "        clusters = {n:n for n in self.nodes}\n",
    "        ranks  = {n:0 for n in self.nodes}\n",
    "        solution = set()\n",
    "\n",
    "        def find(u):\n",
    "            if clusters[u] != u:\n",
    "                clusters[u] = find(clusters[u])\n",
    "            return clusters[u]\n",
    "\n",
    "        def union(x,y):\n",
    "            x,y = find(x), find(y)\n",
    "            if ranks[x] > ranks[y]:\n",
    "                clusters[y] = x\n",
    "            else:\n",
    "                clusters[x] = y\n",
    "            if ranks[x] == ranks[y]:\n",
    "                ranks[y] += 1\n",
    "\n",
    "        for w,x,y in sorted(edge_weights):\n",
    "            if x != y:\n",
    "                if find(x) != find(y):\n",
    "                    #add edge to solution\n",
    "                    solution.add((x,y))\n",
    "                    union(x,y)\n",
    "        return solution"
   ]
  }
 ],
 "metadata": {
  "kernelspec": {
   "display_name": "Python 3",
   "language": "python",
   "name": "python3"
  },
  "language_info": {
   "codemirror_mode": {
    "name": "ipython",
    "version": 3
   },
   "file_extension": ".py",
   "mimetype": "text/x-python",
   "name": "python",
   "nbconvert_exporter": "python",
   "pygments_lexer": "ipython3",
   "version": "3.6.12"
  }
 },
 "nbformat": 4,
 "nbformat_minor": 5
}
