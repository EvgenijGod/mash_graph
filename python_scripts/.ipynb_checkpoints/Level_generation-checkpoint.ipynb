{
 "cells": [
  {
   "cell_type": "code",
   "execution_count": 1,
   "id": "opponent-variance",
   "metadata": {},
   "outputs": [],
   "source": [
    "import random\n",
    "import numpy as np\n",
    "%matplotlib inline\n",
    "from matplotlib import pyplot as plt"
   ]
  },
  {
   "cell_type": "code",
   "execution_count": 2,
   "id": "bridal-costume",
   "metadata": {},
   "outputs": [],
   "source": [
    "elements = [' ', #пустое простарнство\n",
    "            '@', #игрок\n",
    "            '.', #пол\n",
    "            '#', #стена\n",
    "            'x', #выход с уровня\n",
    "            '%', #ломающаяся стена\n",
    "           ]"
   ]
  },
  {
   "cell_type": "code",
   "execution_count": 3,
   "id": "aerial-facing",
   "metadata": {},
   "outputs": [],
   "source": [
    "arr = []\n",
    "\n",
    "with open(\"../floors/first_floor.txt\", \"w\") as file:\n",
    "    for __ in range(1024//16):\n",
    "        arr_line = []\n",
    "        for _ in range(1024//16):\n",
    "            ind = random.randint(0, elements.__len__() - 1)\n",
    "            arr_line += elements[ind]\n",
    "        arr += arr_line\n",
    "        print(*arr_line, file=file, sep = '')"
   ]
  },
  {
   "cell_type": "code",
   "execution_count": 10,
   "id": "lovely-tribe",
   "metadata": {},
   "outputs": [],
   "source": [
    "from generate_maze import create_maze\n"
   ]
  },
  {
   "cell_type": "code",
   "execution_count": 11,
   "id": "necessary-madrid",
   "metadata": {},
   "outputs": [],
   "source": [
    "def show(img):\n",
    "    fig = plt.imshow(img, 'gray')\n",
    "    fig.axes.get_xaxis().set_visible(False)\n",
    "    fig.axes.get_yaxis().set_visible(False)\n",
    "    #plt.savefig('maze2.png')\n",
    "    plt.show()"
   ]
  },
  {
   "cell_type": "code",
   "execution_count": 29,
   "id": "numerous-lawyer",
   "metadata": {},
   "outputs": [
    {
     "name": "stdout",
     "output_type": "stream",
     "text": [
      "57 57\n"
     ]
    },
    {
     "data": {
      "image/png": "[encoded data removed]",
      "text/plain": [
       "<Figure size 432x288 with 1 Axes>"
      ]
     },
     "metadata": {
      "needs_background": "light"
     },
     "output_type": "display_data"
    }
   ],
   "source": [
    "lago = create_maze(9, 9)\n",
    "padding = 3\n",
    "img = lago.return_img(padding=padding)\n",
    "show(img)"
   ]
  },
  {
   "cell_type": "code",
   "execution_count": 19,
   "id": "spatial-introduction",
   "metadata": {},
   "outputs": [
    {
     "data": {
      "text/plain": [
       "array([[  0,   0, 170, 170,   0,   0,   0,   0,   0,   0],\n",
       "       [  0,   0, 170, 170,   0,   0,   0,   0,   0,   0],\n",
       "       [  0,   0, 255, 255, 255, 255, 255, 255,   0,   0],\n",
       "       [  0,   0, 255, 255, 255, 255, 255, 255,   0,   0],\n",
       "       [  0,   0,   0,   0,   0,   0, 255, 255,   0,   0],\n",
       "       [  0,   0,   0,   0,   0,   0, 255, 255,   0,   0],\n",
       "       [  0,   0, 255, 255, 255, 255, 255, 255,   0,   0],\n",
       "       [  0,   0, 255, 255, 255, 255, 255, 255,   0,   0],\n",
       "       [  0,   0, 255, 255,   0,   0,   0,   0,   0,   0],\n",
       "       [  0,   0, 255, 255,   0,   0,   0,   0,   0,   0]])"
      ]
     },
     "execution_count": 19,
     "metadata": {},
     "output_type": "execute_result"
    }
   ],
   "source": [
    "img[:10, :10]"
   ]
  },
  {
   "cell_type": "code",
   "execution_count": 23,
   "id": "level-consumption",
   "metadata": {},
   "outputs": [],
   "source": [
    "def goof_pixel(i, j, h, w):\n",
    "    if i > 1 and i < h - 2 and j > 1 and j < w - 2:\n",
    "        return True\n",
    "    else:\n",
    "        return False"
   ]
  },
  {
   "cell_type": "code",
   "execution_count": 20,
   "id": "handy-packaging",
   "metadata": {},
   "outputs": [],
   "source": [
    "converter = {\n",
    "    0: '#',\n",
    "    255: '.',\n",
    "    170: 'x',\n",
    "    177: '@',\n",
    "    100: '%',\n",
    "}\n",
    "walls = [0, 100]\n",
    "weights = [0.8, 0.2]\n",
    "#random.choices(walls, weights)\n",
    "for i in range(img.shape[0]):\n",
    "    for j in range(img.shape[1]):\n",
    "        if img[i, j] == 0 and good_pixel(i, j, img.shape[0], img.shape[1]):\n",
    "            img[i, j] = random.choices(walls, weights)[0]\n",
    "            if img[i, j] == 100:\n",
    "                \n",
    "            "
   ]
  },
  {
   "cell_type": "code",
   "execution_count": 21,
   "id": "chicken-corner",
   "metadata": {},
   "outputs": [
    {
     "data": {
      "image/png": "[encoded data removed]",
      "text/plain": [
       "<Figure size 432x288 with 1 Axes>"
      ]
     },
     "metadata": {
      "needs_background": "light"
     },
     "output_type": "display_data"
    }
   ],
   "source": [
    "show(img)"
   ]
  },
  {
   "cell_type": "code",
   "execution_count": 22,
   "id": "parliamentary-frost",
   "metadata": {},
   "outputs": [],
   "source": [
    "with open(\"../floors/first_floor.txt\", \"w\") as file:\n",
    "    pict = img.copy()\n",
    "    for i in range(pict.shape[0]):\n",
    "        arr_line = []\n",
    "        for j in range(pict.shape[1]):\n",
    "            try:\n",
    "                arr_line.append(converter[pict[i, j]])\n",
    "            except:\n",
    "                print(pict[i, j])\n",
    "\n",
    "        print(*arr_line, file=file, sep = '')\n",
    "                "
   ]
  },
  {
   "cell_type": "code",
   "execution_count": null,
   "id": "opening-humanitarian",
   "metadata": {},
   "outputs": [],
   "source": []
  },
  {
   "cell_type": "code",
   "execution_count": null,
   "id": "harmful-trunk",
   "metadata": {},
   "outputs": [],
   "source": []
  }
 ],
 "metadata": {
  "kernelspec": {
   "display_name": "Python 3",
   "language": "python",
   "name": "python3"
  },
  "language_info": {
   "codemirror_mode": {
    "name": "ipython",
    "version": 3
   },
   "file_extension": ".py",
   "mimetype": "text/x-python",
   "name": "python",
   "nbconvert_exporter": "python",
   "pygments_lexer": "ipython3",
   "version": "3.6.12"
  }
 },
 "nbformat": 4,
 "nbformat_minor": 5
}
